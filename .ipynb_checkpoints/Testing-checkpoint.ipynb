{
 "cells": [
  {
   "cell_type": "code",
   "execution_count": 1,
   "id": "6d6fb493-7549-442f-a1b1-5cc6c4d7b5fb",
   "metadata": {},
   "outputs": [],
   "source": [
    "import torch.nn as nn\n",
    "import torch\n",
    "import pandas as pd\n",
    "import numpy as np\n",
    "from torch.utils.data import TensorDataset"
   ]
  },
  {
   "cell_type": "code",
   "execution_count": 2,
   "id": "175711df-64e9-44b5-b61c-5e036ba307b9",
   "metadata": {},
   "outputs": [
    {
     "name": "stdout",
     "output_type": "stream",
     "text": [
      "cuda\n"
     ]
    }
   ],
   "source": [
    "device = torch.device(\"cuda\" if torch.cuda.is_available() else \"cpu\")\n",
    "print(device)"
   ]
  },
  {
   "cell_type": "code",
   "execution_count": 3,
   "id": "9efdb2a4-3e0d-4c48-987d-e1587dbd0a8c",
   "metadata": {},
   "outputs": [],
   "source": [
    "#data params\n",
    "data = pd.read_csv(\"../multivariate-attention-tcn/Datasets/AirQualityUCI.csv\",sep=';',decimal=',')\n",
    "window_size = 5\n",
    "window_offset = -2\n",
    "batch_size = 32"
   ]
  },
  {
   "cell_type": "code",
   "execution_count": 4,
   "id": "cd37b2c0-7895-406f-8d07-a3c41f2ac5df",
   "metadata": {},
   "outputs": [],
   "source": [
    "#model params\n",
    "target_size = 1"
   ]
  },
  {
   "cell_type": "code",
   "execution_count": 5,
   "id": "ba8b69d1-bdfc-4de4-bbe9-a231149e827b",
   "metadata": {},
   "outputs": [],
   "source": [
    "#training params\n",
    "lr = 0.0001\n",
    "epochs = 10"
   ]
  },
  {
   "cell_type": "code",
   "execution_count": 6,
   "id": "2a15a56a-d5fc-4e62-804f-47c30d4e803e",
   "metadata": {},
   "outputs": [],
   "source": [
    "from dataset import TimeseriesDataset\n",
    "from model import LSTMClassification\n",
    "from main import make_dataloaders, train"
   ]
  },
  {
   "cell_type": "code",
   "execution_count": 7,
   "id": "c7bc1bb1-de1b-4d96-a582-3ff613932db0",
   "metadata": {},
   "outputs": [
    {
     "name": "stdout",
     "output_type": "stream",
     "text": [
      "Train Epoch: 1 [0/8857 (0%)]\tLoss: 0.610930\n",
      "Train Epoch: 1 [1600/8857 (18%)]\tLoss: 0.063996\n",
      "Train Epoch: 1 [3200/8857 (36%)]\tLoss: 0.250082\n",
      "Train Epoch: 1 [4800/8857 (54%)]\tLoss: 0.298515\n",
      "Train Epoch: 1 [6400/8857 (72%)]\tLoss: 0.312097\n",
      "Train Epoch: 1 [8000/8857 (90%)]\tLoss: 0.005965\n",
      "Train Epoch: 2 [0/8857 (0%)]\tLoss: 0.058884\n",
      "Train Epoch: 2 [1600/8857 (18%)]\tLoss: 0.094265\n",
      "Train Epoch: 2 [3200/8857 (36%)]\tLoss: 0.152741\n",
      "Train Epoch: 2 [4800/8857 (54%)]\tLoss: 0.284837\n",
      "Train Epoch: 2 [6400/8857 (72%)]\tLoss: 0.066708\n",
      "Train Epoch: 2 [8000/8857 (90%)]\tLoss: 0.002815\n",
      "Train Epoch: 3 [0/8857 (0%)]\tLoss: 0.037835\n",
      "Train Epoch: 3 [1600/8857 (18%)]\tLoss: 0.075413\n",
      "Train Epoch: 3 [3200/8857 (36%)]\tLoss: 0.127203\n",
      "Train Epoch: 3 [4800/8857 (54%)]\tLoss: 0.243466\n",
      "Train Epoch: 3 [6400/8857 (72%)]\tLoss: 0.031909\n",
      "Train Epoch: 3 [8000/8857 (90%)]\tLoss: 0.001210\n",
      "Train Epoch: 4 [0/8857 (0%)]\tLoss: 0.027393\n",
      "Train Epoch: 4 [1600/8857 (18%)]\tLoss: 0.048957\n",
      "Train Epoch: 4 [3200/8857 (36%)]\tLoss: 0.102550\n",
      "Train Epoch: 4 [4800/8857 (54%)]\tLoss: 0.211253\n",
      "Train Epoch: 4 [6400/8857 (72%)]\tLoss: 0.018844\n",
      "Train Epoch: 4 [8000/8857 (90%)]\tLoss: 0.001016\n",
      "Train Epoch: 5 [0/8857 (0%)]\tLoss: 0.028617\n",
      "Train Epoch: 5 [1600/8857 (18%)]\tLoss: 0.035775\n",
      "Train Epoch: 5 [3200/8857 (36%)]\tLoss: 0.088976\n",
      "Train Epoch: 5 [4800/8857 (54%)]\tLoss: 0.171688\n",
      "Train Epoch: 5 [6400/8857 (72%)]\tLoss: 0.008000\n",
      "Train Epoch: 5 [8000/8857 (90%)]\tLoss: 0.000914\n",
      "Train Epoch: 6 [0/8857 (0%)]\tLoss: 0.033068\n",
      "Train Epoch: 6 [1600/8857 (18%)]\tLoss: 0.024640\n",
      "Train Epoch: 6 [3200/8857 (36%)]\tLoss: 0.070479\n",
      "Train Epoch: 6 [4800/8857 (54%)]\tLoss: 0.170862\n",
      "Train Epoch: 6 [6400/8857 (72%)]\tLoss: 0.005724\n",
      "Train Epoch: 6 [8000/8857 (90%)]\tLoss: 0.000801\n",
      "Train Epoch: 7 [0/8857 (0%)]\tLoss: 0.033373\n",
      "Train Epoch: 7 [1600/8857 (18%)]\tLoss: 0.025568\n",
      "Train Epoch: 7 [3200/8857 (36%)]\tLoss: 0.074711\n",
      "Train Epoch: 7 [4800/8857 (54%)]\tLoss: 0.132600\n"
     ]
    },
    {
     "ename": "KeyboardInterrupt",
     "evalue": "",
     "output_type": "error",
     "traceback": [
      "\u001b[0;31m---------------------------------------------------------------------------\u001b[0m",
      "\u001b[0;31mKeyboardInterrupt\u001b[0m                         Traceback (most recent call last)",
      "Cell \u001b[0;32mIn[7], line 10\u001b[0m\n\u001b[1;32m      7\u001b[0m losses \u001b[38;5;241m=\u001b[39m []\n\u001b[1;32m      9\u001b[0m \u001b[38;5;28;01mfor\u001b[39;00m i \u001b[38;5;129;01min\u001b[39;00m \u001b[38;5;28mrange\u001b[39m(\u001b[38;5;241m1\u001b[39m, epochs\u001b[38;5;241m+\u001b[39m\u001b[38;5;241m1\u001b[39m):\n\u001b[0;32m---> 10\u001b[0m     \u001b[43mtrain\u001b[49m\u001b[43m(\u001b[49m\u001b[43mmodel\u001b[49m\u001b[43m,\u001b[49m\u001b[43m \u001b[49m\u001b[43mtrain_loader\u001b[49m\u001b[43m,\u001b[49m\u001b[43m \u001b[49m\u001b[43moptimizer\u001b[49m\u001b[43m,\u001b[49m\u001b[43m \u001b[49m\u001b[43mepoch\u001b[49m\u001b[38;5;241;43m=\u001b[39;49m\u001b[43mi\u001b[49m\u001b[43m,\u001b[49m\u001b[43m \u001b[49m\u001b[43mlog_interval\u001b[49m\u001b[38;5;241;43m=\u001b[39;49m\u001b[38;5;241;43m50\u001b[39;49m\u001b[43m,\u001b[49m\u001b[43m \u001b[49m\u001b[43mlosses\u001b[49m\u001b[38;5;241;43m=\u001b[39;49m\u001b[43mlosses\u001b[49m\u001b[43m,\u001b[49m\u001b[43m \u001b[49m\u001b[43mdevice\u001b[49m\u001b[38;5;241;43m=\u001b[39;49m\u001b[43mdevice\u001b[49m\u001b[43m)\u001b[49m\n",
      "File \u001b[0;32m/mnt/d/research/craven/baselines/explanationTesting/main.py:70\u001b[0m, in \u001b[0;36mtrain\u001b[0;34m(model, train_loader, optimizer, epoch, log_interval, losses, device)\u001b[0m\n\u001b[1;32m     67\u001b[0m loss \u001b[38;5;241m=\u001b[39m nn\u001b[38;5;241m.\u001b[39mfunctional\u001b[38;5;241m.\u001b[39mmse_loss(output\u001b[38;5;241m.\u001b[39msqueeze(), target)\n\u001b[1;32m     69\u001b[0m optimizer\u001b[38;5;241m.\u001b[39mzero_grad()\n\u001b[0;32m---> 70\u001b[0m \u001b[43mloss\u001b[49m\u001b[38;5;241;43m.\u001b[39;49m\u001b[43mbackward\u001b[49m\u001b[43m(\u001b[49m\u001b[43m)\u001b[49m\n\u001b[1;32m     71\u001b[0m optimizer\u001b[38;5;241m.\u001b[39mstep()\n\u001b[1;32m     73\u001b[0m \u001b[38;5;66;03m# print training stats\u001b[39;00m\n",
      "File \u001b[0;32m~/miniconda3/lib/python3.11/site-packages/torch/_tensor.py:492\u001b[0m, in \u001b[0;36mTensor.backward\u001b[0;34m(self, gradient, retain_graph, create_graph, inputs)\u001b[0m\n\u001b[1;32m    482\u001b[0m \u001b[38;5;28;01mif\u001b[39;00m has_torch_function_unary(\u001b[38;5;28mself\u001b[39m):\n\u001b[1;32m    483\u001b[0m     \u001b[38;5;28;01mreturn\u001b[39;00m handle_torch_function(\n\u001b[1;32m    484\u001b[0m         Tensor\u001b[38;5;241m.\u001b[39mbackward,\n\u001b[1;32m    485\u001b[0m         (\u001b[38;5;28mself\u001b[39m,),\n\u001b[0;32m   (...)\u001b[0m\n\u001b[1;32m    490\u001b[0m         inputs\u001b[38;5;241m=\u001b[39minputs,\n\u001b[1;32m    491\u001b[0m     )\n\u001b[0;32m--> 492\u001b[0m \u001b[43mtorch\u001b[49m\u001b[38;5;241;43m.\u001b[39;49m\u001b[43mautograd\u001b[49m\u001b[38;5;241;43m.\u001b[39;49m\u001b[43mbackward\u001b[49m\u001b[43m(\u001b[49m\n\u001b[1;32m    493\u001b[0m \u001b[43m    \u001b[49m\u001b[38;5;28;43mself\u001b[39;49m\u001b[43m,\u001b[49m\u001b[43m \u001b[49m\u001b[43mgradient\u001b[49m\u001b[43m,\u001b[49m\u001b[43m \u001b[49m\u001b[43mretain_graph\u001b[49m\u001b[43m,\u001b[49m\u001b[43m \u001b[49m\u001b[43mcreate_graph\u001b[49m\u001b[43m,\u001b[49m\u001b[43m \u001b[49m\u001b[43minputs\u001b[49m\u001b[38;5;241;43m=\u001b[39;49m\u001b[43minputs\u001b[49m\n\u001b[1;32m    494\u001b[0m \u001b[43m\u001b[49m\u001b[43m)\u001b[49m\n",
      "File \u001b[0;32m~/miniconda3/lib/python3.11/site-packages/torch/autograd/__init__.py:251\u001b[0m, in \u001b[0;36mbackward\u001b[0;34m(tensors, grad_tensors, retain_graph, create_graph, grad_variables, inputs)\u001b[0m\n\u001b[1;32m    246\u001b[0m     retain_graph \u001b[38;5;241m=\u001b[39m create_graph\n\u001b[1;32m    248\u001b[0m \u001b[38;5;66;03m# The reason we repeat the same comment below is that\u001b[39;00m\n\u001b[1;32m    249\u001b[0m \u001b[38;5;66;03m# some Python versions print out the first line of a multi-line function\u001b[39;00m\n\u001b[1;32m    250\u001b[0m \u001b[38;5;66;03m# calls in the traceback and some print out the last line\u001b[39;00m\n\u001b[0;32m--> 251\u001b[0m \u001b[43mVariable\u001b[49m\u001b[38;5;241;43m.\u001b[39;49m\u001b[43m_execution_engine\u001b[49m\u001b[38;5;241;43m.\u001b[39;49m\u001b[43mrun_backward\u001b[49m\u001b[43m(\u001b[49m\u001b[43m  \u001b[49m\u001b[38;5;66;43;03m# Calls into the C++ engine to run the backward pass\u001b[39;49;00m\n\u001b[1;32m    252\u001b[0m \u001b[43m    \u001b[49m\u001b[43mtensors\u001b[49m\u001b[43m,\u001b[49m\n\u001b[1;32m    253\u001b[0m \u001b[43m    \u001b[49m\u001b[43mgrad_tensors_\u001b[49m\u001b[43m,\u001b[49m\n\u001b[1;32m    254\u001b[0m \u001b[43m    \u001b[49m\u001b[43mretain_graph\u001b[49m\u001b[43m,\u001b[49m\n\u001b[1;32m    255\u001b[0m \u001b[43m    \u001b[49m\u001b[43mcreate_graph\u001b[49m\u001b[43m,\u001b[49m\n\u001b[1;32m    256\u001b[0m \u001b[43m    \u001b[49m\u001b[43minputs\u001b[49m\u001b[43m,\u001b[49m\n\u001b[1;32m    257\u001b[0m \u001b[43m    \u001b[49m\u001b[43mallow_unreachable\u001b[49m\u001b[38;5;241;43m=\u001b[39;49m\u001b[38;5;28;43;01mTrue\u001b[39;49;00m\u001b[43m,\u001b[49m\n\u001b[1;32m    258\u001b[0m \u001b[43m    \u001b[49m\u001b[43maccumulate_grad\u001b[49m\u001b[38;5;241;43m=\u001b[39;49m\u001b[38;5;28;43;01mTrue\u001b[39;49;00m\u001b[43m,\u001b[49m\n\u001b[1;32m    259\u001b[0m \u001b[43m\u001b[49m\u001b[43m)\u001b[49m\n",
      "\u001b[0;31mKeyboardInterrupt\u001b[0m: "
     ]
    }
   ],
   "source": [
    "train_loader, test_loader, n_features = make_dataloaders(data, window_size, batch_size, window_offset)\n",
    "\n",
    "model = LSTMClassification(n_features, 512, target_size, device, window_size, num_layers=5)\n",
    "model.to(device)\n",
    "\n",
    "optimizer = torch.optim.Adam(model.parameters(), lr=lr)\n",
    "losses = []\n",
    "\n",
    "for i in range(1, epochs+1):\n",
    "    train(model, train_loader, optimizer, epoch=i, log_interval=50, losses=losses, device=device)"
   ]
  },
  {
   "cell_type": "code",
   "execution_count": null,
   "id": "b5db85fd-404d-49a9-a06d-c1b214d6acca",
   "metadata": {},
   "outputs": [],
   "source": [
    "model"
   ]
  },
  {
   "cell_type": "code",
   "execution_count": null,
   "id": "a28503f7-1920-46e0-b0f3-9baaf93813e4",
   "metadata": {},
   "outputs": [],
   "source": [
    "import timeshap\n",
    "\n",
    "from timeshap.wrappers import TorchModelWrapper\n",
    "model_wrapped = TorchModelWrapper(model)\n",
    "f_hs = lambda x, y=None: model_wrapped.predict_last_hs(x, y)\n",
    "\n",
    "from timeshap.utils import calc_avg_event\n",
    "average_event = calc_avg_event(data, numerical_feats=data.columns, categorical_feats=[])"
   ]
  },
  {
   "cell_type": "code",
   "execution_count": null,
   "id": "7980b758-33f4-45ec-8078-8153a84b9ded",
   "metadata": {},
   "outputs": [],
   "source": [
    "list(data.columns.astype(str))[:-2]"
   ]
  }
 ],
 "metadata": {
  "kernelspec": {
   "display_name": "Python 3 (ipykernel)",
   "language": "python",
   "name": "python3"
  },
  "language_info": {
   "codemirror_mode": {
    "name": "ipython",
    "version": 3
   },
   "file_extension": ".py",
   "mimetype": "text/x-python",
   "name": "python",
   "nbconvert_exporter": "python",
   "pygments_lexer": "ipython3",
   "version": "3.11.4"
  }
 },
 "nbformat": 4,
 "nbformat_minor": 5
}
