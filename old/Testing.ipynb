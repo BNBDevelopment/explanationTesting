{
 "cells": [
  {
   "cell_type": "code",
   "execution_count": 1,
   "id": "270bafa2-3ee9-4e8b-b6a1-621fdb66f512",
   "metadata": {},
   "outputs": [],
   "source": [
    "import os\n",
    "\n",
    "import torch.nn as nn\n",
    "import torch\n",
    "import pandas as pd\n",
    "import numpy as np\n",
    "from torch.utils.data import TensorDataset\n",
    "\n",
    "from dataset import TimeseriesDataset\n",
    "from model import LSTMClassification\n",
    "\n",
    "import timeshap\n",
    "from timeshap.wrappers import TorchModelWrapper\n",
    "from timeshap.utils import calc_avg_event\n",
    "from timeshap.utils import get_avg_score_with_avg_event\n",
    "from timeshap.explainer import local_report\n",
    "\n",
    "import sklearn\n",
    "from sklearn.linear_model import LinearRegression"
   ]
  },
  {
   "cell_type": "code",
   "execution_count": 44,
   "id": "94a576f1-74bd-4012-9b76-9e28dd0f9b22",
   "metadata": {},
   "outputs": [],
   "source": [
    "def make_dataloaders(data_x, data_y, window_size, batch_size, window_offset):\n",
    "    train_set = TimeseriesDataset(\n",
    "        torch.from_numpy(data_x.to_numpy()),\n",
    "        torch.from_numpy(data_y.to_numpy()),\n",
    "        window_size=window_size,\n",
    "        window_offset=window_offset)\n",
    "\n",
    "    train_loader = torch.utils.data.DataLoader(\n",
    "        train_set,\n",
    "        batch_size=batch_size,\n",
    "        shuffle=False,\n",
    "    )\n",
    "\n",
    "    n_features = train_set.tensors[0].shape[1]\n",
    "    example_shape = train_set.tensors[0][0].shape\n",
    "\n",
    "    return train_set, train_loader, n_features, [1, window_size, n_features]"
   ]
  },
  {
   "cell_type": "code",
   "execution_count": 54,
   "id": "458d2642-a1b7-417d-b888-c5c3c20f97db",
   "metadata": {},
   "outputs": [],
   "source": [
    "def train(model, train_loader, optimizer, epoch, log_interval, losses, device, loss_fn=nn.functional.mse_loss):\n",
    "    model.train()\n",
    "    epoch_loss = []\n",
    "    for batch_idx, (data, target) in enumerate(train_loader):\n",
    "\n",
    "        data = data.to(device).to(torch.float32)\n",
    "        target = target.to(device).to(torch.float32)\n",
    "        output = model(data)\n",
    "\n",
    "        loss = loss_fn(output.squeeze(), target.squeeze())\n",
    "\n",
    "        optimizer.zero_grad()\n",
    "        loss.backward()\n",
    "        optimizer.step()\n",
    "        losses.append(loss.item())\n",
    "        epoch_loss.append(loss.item())\n",
    "\n",
    "    print(f\"Train Epoch: {epoch} \\t\\t Epoch Loss: {sum(epoch_loss)/len(epoch_loss):.6f}\")\n"
   ]
  },
  {
   "cell_type": "code",
   "execution_count": 117,
   "id": "5cff5824-896e-4ddd-957c-e471280f2c2a",
   "metadata": {},
   "outputs": [],
   "source": [
    "class LinearRegressionModel(torch.nn.Module):\n",
    "    def __init__(self, input_size):\n",
    "        super(LinearRegressionModel, self).__init__()\n",
    "        #self.start_flatten = nn.Flatten()\n",
    "        self.linear = torch.nn.Linear(input_size, 1)\n",
    "\n",
    "    def forward(self, x):\n",
    "        #x = self.start_flatten(x)\n",
    "        pred = self.linear(x)\n",
    "        return pred"
   ]
  },
  {
   "cell_type": "code",
   "execution_count": 4,
   "id": "64c4c2e4-8fac-411a-bb9d-227ce51796f7",
   "metadata": {},
   "outputs": [],
   "source": [
    "data = pd.read_csv(\"../multivariate-attention-tcn/Datasets/AirQualityUCI.csv\",sep=';',decimal=',')\n",
    "data = data.drop('Date', axis=1)\n",
    "data = data.drop('Time', axis=1)\n",
    "data.infer_objects()\n",
    "drops = [-1*x for x in list(range(0,12))]\n",
    "data = data.drop(data.columns[drops], axis=1)\n",
    "data = data.dropna(axis=0)"
   ]
  },
  {
   "cell_type": "code",
   "execution_count": 135,
   "id": "bb1e68e4-6f33-44c2-8b87-3cbf49a67b45",
   "metadata": {},
   "outputs": [
    {
     "name": "stdout",
     "output_type": "stream",
     "text": [
      "train_df.shape: (7486, 3)\n",
      "train_dy.shape: (7486, 1)\n"
     ]
    }
   ],
   "source": [
    "train_size = 0.8\n",
    "val_size = 0.1\n",
    "test_size = 0.1\n",
    "train_df = data.iloc[:round(train_size*data.shape[0])]\n",
    "val_df = data.iloc[round(train_size*data.shape[0]):round(train_size*data.shape[0]+val_size*data.shape[0])]\n",
    "test_df = data.iloc[round(train_size*data.shape[0]+val_size*data.shape[0]):round(train_size*data.shape[0]+val_size*data.shape[0]+test_size*data.shape[0])]\n",
    "\n",
    "print(f\"train_df.shape: {train_df.shape}\")\n",
    "train_dy = train_df.iloc[:, -1:]\n",
    "train_dx = train_df.iloc[:,:-1]\n",
    "val_dy = val_df.iloc[:, -1:]\n",
    "val_dx = val_df.iloc[:,:-1]\n",
    "test_dy = test_df.iloc[:, -1:]\n",
    "test_dx = test_df.iloc[:,:-1]\n",
    "\n",
    "print(f\"train_dy.shape: {train_dy.shape}\")"
   ]
  },
  {
   "cell_type": "code",
   "execution_count": 110,
   "id": "77f22e8a-53e5-4865-8751-96180dcd6b26",
   "metadata": {},
   "outputs": [
    {
     "name": "stdout",
     "output_type": "stream",
     "text": [
      "cuda\n"
     ]
    }
   ],
   "source": [
    "current_device = torch.device(\"cuda\" if torch.cuda.is_available() else \"cpu\")\n",
    "print(current_device)\n",
    "\n",
    "#window_size = 5\n",
    "#window_offset = -2\n",
    "window_size = 1\n",
    "window_offset = 0\n",
    "batch_size = 32\n",
    "\n",
    "#model params\n",
    "target_size = 1\n",
    "n_layer = 3\n",
    "\n",
    "#training params\n",
    "lr = 0.01\n",
    "epochs = 10"
   ]
  },
  {
   "cell_type": "code",
   "execution_count": 111,
   "id": "2280567f-9f20-48d7-a11c-598d62aea5d7",
   "metadata": {},
   "outputs": [
    {
     "name": "stdout",
     "output_type": "stream",
     "text": [
      "example_shape: [1, 1, 2]\n"
     ]
    }
   ],
   "source": [
    "train_ds, train_loader, n_features, example_shape = make_dataloaders(train_dx, train_dy, window_size, batch_size, window_offset)\n",
    "print(f\"example_shape: {example_shape}\")"
   ]
  },
  {
   "cell_type": "code",
   "execution_count": 118,
   "id": "bfa1fc9b-dba6-468c-8df1-a677a3ae02c5",
   "metadata": {},
   "outputs": [],
   "source": [
    "model = LinearRegressionModel(input_size=np.prod(example_shape))"
   ]
  },
  {
   "cell_type": "code",
   "execution_count": 119,
   "id": "5074b219-9db6-4167-8825-1359edec04cd",
   "metadata": {},
   "outputs": [
    {
     "name": "stdout",
     "output_type": "stream",
     "text": [
      "Train Epoch: 1 \t\t Epoch Loss: 20964.069095\n",
      "Train Epoch: 2 \t\t Epoch Loss: 1674.625454\n",
      "Train Epoch: 3 \t\t Epoch Loss: 1461.939788\n",
      "Train Epoch: 4 \t\t Epoch Loss: 1453.208204\n",
      "Train Epoch: 5 \t\t Epoch Loss: 1474.933875\n",
      "Train Epoch: 6 \t\t Epoch Loss: 1498.432476\n",
      "Train Epoch: 7 \t\t Epoch Loss: 1516.629207\n",
      "Train Epoch: 8 \t\t Epoch Loss: 1528.501831\n",
      "Train Epoch: 9 \t\t Epoch Loss: 1535.113228\n",
      "Train Epoch: 10 \t\t Epoch Loss: 1537.848484\n"
     ]
    }
   ],
   "source": [
    "if __name__ == \"__main__\":\n",
    "\n",
    "    if issubclass(model.__class__, nn.Module):\n",
    "        model.to(current_device)\n",
    "        optimizer = torch.optim.Adam(model.parameters(), lr=lr)\n",
    "        losses = []\n",
    "        for i in range(1, epochs+1):\n",
    "            train(model, train_loader, optimizer, epoch=i, log_interval=50, losses=losses, device=current_device)\n",
    "    else:\n",
    "        model.fit(train_dx, train_dy)\n",
    "        score = model.score(val_dx, val_dy)\n",
    "        print(f\"score: {score}\")\n"
   ]
  },
  {
   "cell_type": "code",
   "execution_count": 103,
   "id": "2543b457-917d-4b45-b44b-b5fd23cce687",
   "metadata": {},
   "outputs": [],
   "source": [
    "def convertDataloaderToPd(dataloader):\n",
    "    temp_x = None\n",
    "    temp_y = None\n",
    "    for x in dataloader:\n",
    "        #print(f\"temp_x: {temp_x}\")\n",
    "        if temp_x is None:\n",
    "            temp_x = x[0].detach().cpu().numpy()\n",
    "        else:\n",
    "            np.concatenate([temp_x, x[0].detach().cpu().numpy()], axis=0)\n",
    "\n",
    "        if temp_y is None:\n",
    "            temp_y = x[1].detach().cpu().numpy()\n",
    "        else:\n",
    "            np.concatenate([temp_y, x[1].detach().cpu().numpy()], axis=0)\n",
    "\n",
    "    #return pd.DataFrame(temp_x), pd.DataFrame(temp_y)\n",
    "    return pd.DataFrame(temp_x.reshape(-1, temp_x.shape[-1])), pd.DataFrame(temp_y.reshape(-1, temp_y.shape[-1]))"
   ]
  },
  {
   "cell_type": "code",
   "execution_count": 114,
   "id": "d6912118-277b-453f-8c8e-ae8ddd5e2afc",
   "metadata": {},
   "outputs": [],
   "source": [
    "test_ds, test_loader, n_features, example_shape = make_dataloaders(test_dx, test_dy, window_size, batch_size, window_offset)"
   ]
  },
  {
   "cell_type": "code",
   "execution_count": 134,
   "id": "1714d2a1-00e3-4333-bf7b-24d805f4299f",
   "metadata": {},
   "outputs": [
    {
     "data": {
      "text/html": [
       "<div>\n",
       "<style scoped>\n",
       "    .dataframe tbody tr th:only-of-type {\n",
       "        vertical-align: middle;\n",
       "    }\n",
       "\n",
       "    .dataframe tbody tr th {\n",
       "        vertical-align: top;\n",
       "    }\n",
       "\n",
       "    .dataframe thead th {\n",
       "        text-align: right;\n",
       "    }\n",
       "</style>\n",
       "<table border=\"1\" class=\"dataframe\">\n",
       "  <thead>\n",
       "    <tr style=\"text-align: right;\">\n",
       "      <th></th>\n",
       "      <th>PT08.S1(CO)</th>\n",
       "      <th>NMHC(GT)</th>\n",
       "    </tr>\n",
       "  </thead>\n",
       "  <tbody>\n",
       "    <tr>\n",
       "      <th>0</th>\n",
       "      <td>1360.0</td>\n",
       "      <td>150.0</td>\n",
       "    </tr>\n",
       "    <tr>\n",
       "      <th>1</th>\n",
       "      <td>1292.0</td>\n",
       "      <td>112.0</td>\n",
       "    </tr>\n",
       "    <tr>\n",
       "      <th>2</th>\n",
       "      <td>1402.0</td>\n",
       "      <td>88.0</td>\n",
       "    </tr>\n",
       "    <tr>\n",
       "      <th>3</th>\n",
       "      <td>1376.0</td>\n",
       "      <td>80.0</td>\n",
       "    </tr>\n",
       "    <tr>\n",
       "      <th>4</th>\n",
       "      <td>1272.0</td>\n",
       "      <td>51.0</td>\n",
       "    </tr>\n",
       "    <tr>\n",
       "      <th>...</th>\n",
       "      <td>...</td>\n",
       "      <td>...</td>\n",
       "    </tr>\n",
       "    <tr>\n",
       "      <th>7481</th>\n",
       "      <td>850.0</td>\n",
       "      <td>-200.0</td>\n",
       "    </tr>\n",
       "    <tr>\n",
       "      <th>7482</th>\n",
       "      <td>831.0</td>\n",
       "      <td>-200.0</td>\n",
       "    </tr>\n",
       "    <tr>\n",
       "      <th>7483</th>\n",
       "      <td>866.0</td>\n",
       "      <td>-200.0</td>\n",
       "    </tr>\n",
       "    <tr>\n",
       "      <th>7484</th>\n",
       "      <td>819.0</td>\n",
       "      <td>-200.0</td>\n",
       "    </tr>\n",
       "    <tr>\n",
       "      <th>7485</th>\n",
       "      <td>833.0</td>\n",
       "      <td>-200.0</td>\n",
       "    </tr>\n",
       "  </tbody>\n",
       "</table>\n",
       "<p>7486 rows × 2 columns</p>\n",
       "</div>"
      ],
      "text/plain": [
       "      PT08.S1(CO)  NMHC(GT)\n",
       "0          1360.0     150.0\n",
       "1          1292.0     112.0\n",
       "2          1402.0      88.0\n",
       "3          1376.0      80.0\n",
       "4          1272.0      51.0\n",
       "...           ...       ...\n",
       "7481        850.0    -200.0\n",
       "7482        831.0    -200.0\n",
       "7483        866.0    -200.0\n",
       "7484        819.0    -200.0\n",
       "7485        833.0    -200.0\n",
       "\n",
       "[7486 rows x 2 columns]"
      ]
     },
     "execution_count": 134,
     "metadata": {},
     "output_type": "execute_result"
    }
   ],
   "source": [
    "test_dx"
   ]
  },
  {
   "cell_type": "code",
   "execution_count": 139,
   "id": "387585e1-4c1f-4a2d-8c9f-0a5951f5bba5",
   "metadata": {},
   "outputs": [],
   "source": [
    "from timeshap.utils import calc_avg_sequence\n",
    "average_sequence = test_dx.mean(axis=0)"
   ]
  },
  {
   "cell_type": "code",
   "execution_count": 156,
   "id": "e9d7b37b-3bf3-4b61-9c25-56258551fe04",
   "metadata": {},
   "outputs": [],
   "source": [
    "average_sequence = pd.DataFrame(average_sequence).transpose()"
   ]
  },
  {
   "cell_type": "code",
   "execution_count": 126,
   "id": "dc1e4975-f432-4e97-92ea-3ece801c4cf6",
   "metadata": {},
   "outputs": [],
   "source": [
    "import timeshap"
   ]
  },
  {
   "cell_type": "code",
   "execution_count": 149,
   "id": "bba91c01-61a8-4678-b690-2c65888b3c2c",
   "metadata": {},
   "outputs": [],
   "source": [
    "model_wrapped = TorchModelWrapper(model)\n",
    "f_hs = lambda x, y=None: model_wrapped.predict_last_hs(x, y)"
   ]
  },
  {
   "cell_type": "code",
   "execution_count": 147,
   "id": "a7823996-4c74-47d6-9d33-eebd27639d5f",
   "metadata": {},
   "outputs": [],
   "source": [
    "model_features = list(test_dx.columns)\n",
    "plot_feats = list(test_dx.columns)"
   ]
  },
  {
   "cell_type": "code",
   "execution_count": 159,
   "id": "abba2add-6f81-45be-8126-2784b1bddc50",
   "metadata": {},
   "outputs": [
    {
     "name": "stdout",
     "output_type": "stream",
     "text": [
      "Assuming all features are model features\n",
      "Assuming all features are model features\n"
     ]
    },
    {
     "ename": "AssertionError",
     "evalue": "Entity col provided but no model features provided",
     "output_type": "error",
     "traceback": [
      "\u001b[0;31m---------------------------------------------------------------------------\u001b[0m",
      "\u001b[0;31mAssertionError\u001b[0m                            Traceback (most recent call last)",
      "Cell \u001b[0;32mIn[159], line 7\u001b[0m\n\u001b[1;32m      5\u001b[0m feature_dict \u001b[38;5;241m=\u001b[39m {\u001b[38;5;124m'\u001b[39m\u001b[38;5;124mrs\u001b[39m\u001b[38;5;124m'\u001b[39m: \u001b[38;5;241m42\u001b[39m, \u001b[38;5;124m'\u001b[39m\u001b[38;5;124mnsamples\u001b[39m\u001b[38;5;124m'\u001b[39m: \u001b[38;5;241m32000\u001b[39m, \u001b[38;5;124m'\u001b[39m\u001b[38;5;124mfeature_names\u001b[39m\u001b[38;5;124m'\u001b[39m: model_features, \u001b[38;5;124m'\u001b[39m\u001b[38;5;124mplot_features\u001b[39m\u001b[38;5;124m'\u001b[39m: plot_feats}\n\u001b[1;32m      6\u001b[0m cell_dict \u001b[38;5;241m=\u001b[39m \u001b[38;5;28;01mNone\u001b[39;00m\n\u001b[0;32m----> 7\u001b[0m \u001b[43mlocal_report\u001b[49m\u001b[43m(\u001b[49m\u001b[43mf_hs\u001b[49m\u001b[43m,\u001b[49m\u001b[43m \u001b[49m\u001b[43mtest_df\u001b[49m\u001b[43m,\u001b[49m\u001b[43m \u001b[49m\u001b[43mpruning_dict\u001b[49m\u001b[43m,\u001b[49m\u001b[43m \u001b[49m\u001b[43mevent_dict\u001b[49m\u001b[43m,\u001b[49m\u001b[43m \u001b[49m\u001b[43mfeature_dict\u001b[49m\u001b[43m,\u001b[49m\u001b[43m \u001b[49m\u001b[43mcell_dict\u001b[49m\u001b[43m,\u001b[49m\u001b[43m \u001b[49m\u001b[43maverage_sequence\u001b[49m\u001b[43m,\u001b[49m\u001b[43m \u001b[49m\u001b[43mentity_col\u001b[49m\u001b[38;5;241;43m=\u001b[39;49m\u001b[38;5;124;43m'\u001b[39;49m\u001b[38;5;124;43mPT08.S1(CO)\u001b[39;49m\u001b[38;5;124;43m'\u001b[39;49m\u001b[43m)\u001b[49m\n",
      "File \u001b[0;32m~/miniconda3/lib/python3.11/site-packages/timeshap/explainer/local_methods.py:290\u001b[0m, in \u001b[0;36mlocal_report\u001b[0;34m(f, data, pruning_dict, event_dict, feature_dict, cell_dict, baseline, model_features, entity_col, entity_uuid, time_col, verbose)\u001b[0m\n\u001b[1;32m    229\u001b[0m \u001b[38;5;28;01mdef\u001b[39;00m \u001b[38;5;21mlocal_report\u001b[39m(f: Callable[[np\u001b[38;5;241m.\u001b[39mndarray], np\u001b[38;5;241m.\u001b[39mndarray],\n\u001b[1;32m    230\u001b[0m                  data: Union[pd\u001b[38;5;241m.\u001b[39mDataFrame, np\u001b[38;5;241m.\u001b[39marray],\n\u001b[1;32m    231\u001b[0m                  pruning_dict: \u001b[38;5;28mdict\u001b[39m,\n\u001b[0;32m   (...)\u001b[0m\n\u001b[1;32m    240\u001b[0m                  verbose\u001b[38;5;241m=\u001b[39m\u001b[38;5;28;01mFalse\u001b[39;00m,\n\u001b[1;32m    241\u001b[0m                  ):\n\u001b[1;32m    242\u001b[0m \u001b[38;5;250m    \u001b[39m\u001b[38;5;124;03m\"\"\"Calculates local report and plots it.\u001b[39;00m\n\u001b[1;32m    243\u001b[0m \n\u001b[1;32m    244\u001b[0m \u001b[38;5;124;03m     `None` on the pruning_dict argument makes TimeSHAP skip the pruning step.\u001b[39;00m\n\u001b[0;32m   (...)\u001b[0m\n\u001b[1;32m    287\u001b[0m \u001b[38;5;124;03m        If process is verbose\u001b[39;00m\n\u001b[1;32m    288\u001b[0m \u001b[38;5;124;03m    \"\"\"\u001b[39;00m\n\u001b[1;32m    289\u001b[0m     pruning_data, event_data, feature_data, cell_level \u001b[38;5;241m=\u001b[39m \\\n\u001b[0;32m--> 290\u001b[0m         \u001b[43mcalc_local_report\u001b[49m\u001b[43m(\u001b[49m\u001b[43mf\u001b[49m\u001b[43m,\u001b[49m\u001b[43m \u001b[49m\u001b[43mdata\u001b[49m\u001b[43m,\u001b[49m\u001b[43m \u001b[49m\u001b[43mpruning_dict\u001b[49m\u001b[43m,\u001b[49m\u001b[43m \u001b[49m\u001b[43mevent_dict\u001b[49m\u001b[43m,\u001b[49m\u001b[43m \u001b[49m\u001b[43mfeature_dict\u001b[49m\u001b[43m,\u001b[49m\n\u001b[1;32m    291\u001b[0m \u001b[43m                          \u001b[49m\u001b[43mcell_dict\u001b[49m\u001b[43m,\u001b[49m\u001b[43m \u001b[49m\u001b[43mbaseline\u001b[49m\u001b[43m,\u001b[49m\u001b[43m \u001b[49m\u001b[43mmodel_features\u001b[49m\u001b[43m,\u001b[49m\u001b[43m \u001b[49m\u001b[43mentity_col\u001b[49m\u001b[43m,\u001b[49m\n\u001b[1;32m    292\u001b[0m \u001b[43m                          \u001b[49m\u001b[43mentity_uuid\u001b[49m\u001b[43m,\u001b[49m\u001b[43m \u001b[49m\u001b[43mtime_col\u001b[49m\u001b[43m,\u001b[49m\u001b[43m \u001b[49m\u001b[43mverbose\u001b[49m\n\u001b[1;32m    293\u001b[0m \u001b[43m                          \u001b[49m\u001b[43m)\u001b[49m\n\u001b[1;32m    294\u001b[0m     plot \u001b[38;5;241m=\u001b[39m plot_local_report(pruning_dict, event_dict, feature_dict, cell_dict,\n\u001b[1;32m    295\u001b[0m                              pruning_data, event_data, feature_data, cell_level\n\u001b[1;32m    296\u001b[0m                              )\n\u001b[1;32m    297\u001b[0m     \u001b[38;5;28;01mreturn\u001b[39;00m plot\n",
      "File \u001b[0;32m~/miniconda3/lib/python3.11/site-packages/timeshap/explainer/local_methods.py:196\u001b[0m, in \u001b[0;36mcalc_local_report\u001b[0;34m(f, data, pruning_dict, event_dict, feature_dict, cell_dict, baseline, model_features, entity_col, entity_uuid, time_col, verbose)\u001b[0m\n\u001b[1;32m    124\u001b[0m \u001b[38;5;28;01mdef\u001b[39;00m \u001b[38;5;21mcalc_local_report\u001b[39m(f: Callable[[np\u001b[38;5;241m.\u001b[39mndarray], np\u001b[38;5;241m.\u001b[39mndarray],\n\u001b[1;32m    125\u001b[0m                       data: Union[pd\u001b[38;5;241m.\u001b[39mDataFrame, np\u001b[38;5;241m.\u001b[39marray],\n\u001b[1;32m    126\u001b[0m                       pruning_dict: \u001b[38;5;28mdict\u001b[39m,\n\u001b[0;32m   (...)\u001b[0m\n\u001b[1;32m    135\u001b[0m                       verbose\u001b[38;5;241m=\u001b[39m\u001b[38;5;28;01mFalse\u001b[39;00m,\n\u001b[1;32m    136\u001b[0m                       ) \u001b[38;5;241m-\u001b[39m\u001b[38;5;241m>\u001b[39m Tuple[pd\u001b[38;5;241m.\u001b[39mDataFrame, pd\u001b[38;5;241m.\u001b[39mDataFrame, pd\u001b[38;5;241m.\u001b[39mDataFrame, pd\u001b[38;5;241m.\u001b[39mDataFrame]:\n\u001b[1;32m    137\u001b[0m \u001b[38;5;250m    \u001b[39m\u001b[38;5;124;03m\"\"\"Calculates local explanations\u001b[39;00m\n\u001b[1;32m    138\u001b[0m \n\u001b[1;32m    139\u001b[0m \u001b[38;5;124;03m    Parameters\u001b[39;00m\n\u001b[0;32m   (...)\u001b[0m\n\u001b[1;32m    194\u001b[0m \u001b[38;5;124;03m        Local cell explanations\u001b[39;00m\n\u001b[1;32m    195\u001b[0m \u001b[38;5;124;03m    \"\"\"\u001b[39;00m\n\u001b[0;32m--> 196\u001b[0m     \u001b[43mvalidate_local_input\u001b[49m\u001b[43m(\u001b[49m\u001b[43mf\u001b[49m\u001b[43m,\u001b[49m\u001b[43m \u001b[49m\u001b[43mdata\u001b[49m\u001b[43m,\u001b[49m\u001b[43m \u001b[49m\u001b[43mpruning_dict\u001b[49m\u001b[43m,\u001b[49m\u001b[43m \u001b[49m\u001b[43mevent_dict\u001b[49m\u001b[43m,\u001b[49m\u001b[43m \u001b[49m\u001b[43mfeature_dict\u001b[49m\u001b[43m,\u001b[49m\u001b[43m \u001b[49m\u001b[43mcell_dict\u001b[49m\u001b[43m,\u001b[49m\n\u001b[1;32m    197\u001b[0m \u001b[43m                         \u001b[49m\u001b[43mbaseline\u001b[49m\u001b[43m,\u001b[49m\u001b[43m \u001b[49m\u001b[43mmodel_features\u001b[49m\u001b[43m,\u001b[49m\u001b[43m \u001b[49m\u001b[43mentity_col\u001b[49m\u001b[43m,\u001b[49m\u001b[43m \u001b[49m\u001b[43mtime_col\u001b[49m\u001b[43m,\u001b[49m\u001b[43m \u001b[49m\u001b[43mentity_uuid\u001b[49m\u001b[43m)\u001b[49m\n\u001b[1;32m    198\u001b[0m     \u001b[38;5;66;03m# deals with given date being a DataFrame\u001b[39;00m\n\u001b[1;32m    199\u001b[0m     \u001b[38;5;28;01mif\u001b[39;00m \u001b[38;5;28misinstance\u001b[39m(data, pd\u001b[38;5;241m.\u001b[39mDataFrame):\n",
      "File \u001b[0;32m~/miniconda3/lib/python3.11/site-packages/timeshap/explainer/local_methods.py:79\u001b[0m, in \u001b[0;36mvalidate_local_input\u001b[0;34m(f, data, pruning_dict, event_dict, feature_dict, cell_dict, baseline, model_features, entity_col, time_col, entity_uuid)\u001b[0m\n\u001b[1;32m     77\u001b[0m \u001b[38;5;28;01melse\u001b[39;00m:\n\u001b[1;32m     78\u001b[0m     \u001b[38;5;28mprint\u001b[39m(\u001b[38;5;124m\"\u001b[39m\u001b[38;5;124mAssuming all features are model features\u001b[39m\u001b[38;5;124m\"\u001b[39m)\n\u001b[0;32m---> 79\u001b[0m     \u001b[38;5;28;01massert\u001b[39;00m entity_col \u001b[38;5;129;01mis\u001b[39;00m \u001b[38;5;28;01mNone\u001b[39;00m, \u001b[38;5;124m\"\u001b[39m\u001b[38;5;124mEntity col provided but no model features provided\u001b[39m\u001b[38;5;124m\"\u001b[39m\n\u001b[1;32m     80\u001b[0m     \u001b[38;5;28;01massert\u001b[39;00m time_col \u001b[38;5;129;01mis\u001b[39;00m \u001b[38;5;28;01mNone\u001b[39;00m, \u001b[38;5;124m\"\u001b[39m\u001b[38;5;124mTime col provided but no model features provided\u001b[39m\u001b[38;5;124m\"\u001b[39m\n\u001b[1;32m     81\u001b[0m \u001b[38;5;28;01mif\u001b[39;00m entity_col \u001b[38;5;129;01mis\u001b[39;00m \u001b[38;5;129;01mnot\u001b[39;00m \u001b[38;5;28;01mNone\u001b[39;00m:\n",
      "\u001b[0;31mAssertionError\u001b[0m: Entity col provided but no model features provided"
     ]
    }
   ],
   "source": [
    "from timeshap.explainer import local_report\n",
    "\n",
    "pruning_dict = {'tol': 0.025}\n",
    "event_dict = {'rs': 42, 'nsamples': 32000}\n",
    "feature_dict = {'rs': 42, 'nsamples': 32000, 'feature_names': model_features, 'plot_features': plot_feats}\n",
    "cell_dict = None\n",
    "local_report(f_hs, test_df, pruning_dict, event_dict, feature_dict, cell_dict, average_sequence, entity_col='PT08.S1(CO)')"
   ]
  }
 ],
 "metadata": {
  "kernelspec": {
   "display_name": "Python 3 (ipykernel)",
   "language": "python",
   "name": "python3"
  },
  "language_info": {
   "codemirror_mode": {
    "name": "ipython",
    "version": 3
   },
   "file_extension": ".py",
   "mimetype": "text/x-python",
   "name": "python",
   "nbconvert_exporter": "python",
   "pygments_lexer": "ipython3",
   "version": "3.11.4"
  }
 },
 "nbformat": 4,
 "nbformat_minor": 5
}
