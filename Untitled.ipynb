{
 "cells": [
  {
   "cell_type": "code",
   "execution_count": 2,
   "id": "89607bed-22db-455a-a545-af406759400d",
   "metadata": {},
   "outputs": [
    {
     "name": "stdout",
     "output_type": "stream",
     "text": [
      "/mnt/d/research/craven/baselines/explanationTesting\n"
     ]
    }
   ],
   "source": [
    "!pwd"
   ]
  },
  {
   "cell_type": "code",
   "execution_count": 5,
   "id": "81a3205d-9c03-4c2e-885d-b7d4fe748d1a",
   "metadata": {},
   "outputs": [
    {
     "name": "stdout",
     "output_type": "stream",
     "text": [
      "Found existing installation: lasts 0.1\n",
      "Uninstalling lasts-0.1:\n",
      "  Successfully uninstalled lasts-0.1\n",
      "Note: you may need to restart the kernel to use updated packages.\n"
     ]
    }
   ],
   "source": [
    "pip uninstall -y lasts"
   ]
  },
  {
   "cell_type": "code",
   "execution_count": 6,
   "id": "4c20e7a5-e72f-4f2e-8215-3c04788252b0",
   "metadata": {},
   "outputs": [
    {
     "name": "stdout",
     "output_type": "stream",
     "text": [
      "Processing /mnt/d/research/craven/baselines/lasts\n",
      "  Preparing metadata (setup.py) ... \u001b[?25ldone\n",
      "\u001b[?25hBuilding wheels for collected packages: lasts\n",
      "  Building wheel for lasts (setup.py) ... \u001b[?25ldone\n",
      "\u001b[?25h  Created wheel for lasts: filename=lasts-0.1-py3-none-any.whl size=92006 sha256=a470ae344ff91f0fa3112dc75ab28b066c99123ad59d4d60f9cfd8ec5297e8ad\n",
      "  Stored in directory: /tmp/pip-ephem-wheel-cache-xbhrc91f/wheels/02/49/18/872274d3965ac37ba67aa682a0c5e894a09f7a91d06819ac89\n",
      "Successfully built lasts\n",
      "Installing collected packages: lasts\n",
      "Successfully installed lasts-0.1\n",
      "Note: you may need to restart the kernel to use updated packages.\n"
     ]
    }
   ],
   "source": [
    "pip install ../lasts"
   ]
  },
  {
   "cell_type": "code",
   "execution_count": 6,
   "id": "6a5e8900-b02c-4039-92ae-8b9161f36cc8",
   "metadata": {},
   "outputs": [
    {
     "name": "stdout",
     "output_type": "stream",
     "text": [
      "Requirement already satisfied: pyts in /home/galilei/miniconda3/lib/python3.11/site-packages (0.13.0)\n",
      "Requirement already satisfied: numpy>=1.22.4 in /home/galilei/miniconda3/lib/python3.11/site-packages (from pyts) (1.23.5)\n",
      "Requirement already satisfied: scipy>=1.8.1 in /home/galilei/miniconda3/lib/python3.11/site-packages (from pyts) (1.11.3)\n",
      "Requirement already satisfied: scikit-learn>=1.2.0 in /home/galilei/miniconda3/lib/python3.11/site-packages (from pyts) (1.3.2)\n",
      "Requirement already satisfied: joblib>=1.1.1 in /home/galilei/miniconda3/lib/python3.11/site-packages (from pyts) (1.3.2)\n",
      "Requirement already satisfied: numba>=0.55.2 in /home/galilei/miniconda3/lib/python3.11/site-packages (from pyts) (0.58.1)\n",
      "Requirement already satisfied: llvmlite<0.42,>=0.41.0dev0 in /home/galilei/miniconda3/lib/python3.11/site-packages (from numba>=0.55.2->pyts) (0.41.1)\n",
      "Requirement already satisfied: threadpoolctl>=2.0.0 in /home/galilei/miniconda3/lib/python3.11/site-packages (from scikit-learn>=1.2.0->pyts) (3.2.0)\n",
      "Requirement already satisfied: tslearn in /home/galilei/miniconda3/lib/python3.11/site-packages (0.6.2)\n",
      "Requirement already satisfied: numpy in /home/galilei/miniconda3/lib/python3.11/site-packages (from tslearn) (1.23.5)\n",
      "Requirement already satisfied: scipy in /home/galilei/miniconda3/lib/python3.11/site-packages (from tslearn) (1.11.3)\n",
      "Requirement already satisfied: scikit-learn in /home/galilei/miniconda3/lib/python3.11/site-packages (from tslearn) (1.3.2)\n",
      "Requirement already satisfied: numba in /home/galilei/miniconda3/lib/python3.11/site-packages (from tslearn) (0.58.1)\n",
      "Requirement already satisfied: joblib in /home/galilei/miniconda3/lib/python3.11/site-packages (from tslearn) (1.3.2)\n",
      "Requirement already satisfied: llvmlite<0.42,>=0.41.0dev0 in /home/galilei/miniconda3/lib/python3.11/site-packages (from numba->tslearn) (0.41.1)\n",
      "Requirement already satisfied: threadpoolctl>=2.0.0 in /home/galilei/miniconda3/lib/python3.11/site-packages (from scikit-learn->tslearn) (3.2.0)\n",
      "Collecting imblearn\n",
      "  Downloading imblearn-0.0-py2.py3-none-any.whl (1.9 kB)\n",
      "Collecting imbalanced-learn (from imblearn)\n",
      "  Downloading imbalanced_learn-0.11.0-py3-none-any.whl (235 kB)\n",
      "\u001b[2K     \u001b[90m━━━━━━━━━━━━━━━━━━━━━━━━━━━━━━━━━━━━━━━\u001b[0m \u001b[32m235.6/235.6 kB\u001b[0m \u001b[31m6.4 MB/s\u001b[0m eta \u001b[36m0:00:00\u001b[0ma \u001b[36m0:00:01\u001b[0m\n",
      "\u001b[?25hRequirement already satisfied: numpy>=1.17.3 in /home/galilei/miniconda3/lib/python3.11/site-packages (from imbalanced-learn->imblearn) (1.23.5)\n",
      "Requirement already satisfied: scipy>=1.5.0 in /home/galilei/miniconda3/lib/python3.11/site-packages (from imbalanced-learn->imblearn) (1.11.3)\n",
      "Requirement already satisfied: scikit-learn>=1.0.2 in /home/galilei/miniconda3/lib/python3.11/site-packages (from imbalanced-learn->imblearn) (1.3.2)\n",
      "Requirement already satisfied: joblib>=1.1.1 in /home/galilei/miniconda3/lib/python3.11/site-packages (from imbalanced-learn->imblearn) (1.3.2)\n",
      "Requirement already satisfied: threadpoolctl>=2.0.0 in /home/galilei/miniconda3/lib/python3.11/site-packages (from imbalanced-learn->imblearn) (3.2.0)\n",
      "Installing collected packages: imbalanced-learn, imblearn\n",
      "Successfully installed imbalanced-learn-0.11.0 imblearn-0.0\n"
     ]
    }
   ],
   "source": [
    "!pip install pyts\n",
    "!pip install tslearn\n",
    "!pip install imblearn"
   ]
  },
  {
   "cell_type": "code",
   "execution_count": 2,
   "id": "81a638e5-7d01-485a-a6bd-e2a2bb9add23",
   "metadata": {},
   "outputs": [
    {
     "name": "stdout",
     "output_type": "stream",
     "text": [
      "Requirement already satisfied: sktime in /home/galilei/miniconda3/lib/python3.11/site-packages (0.24.1)\n",
      "Requirement already satisfied: numpy<1.27,>=1.21 in /home/galilei/miniconda3/lib/python3.11/site-packages (from sktime) (1.23.5)\n",
      "Requirement already satisfied: packaging in /home/galilei/miniconda3/lib/python3.11/site-packages (from sktime) (23.0)\n",
      "Requirement already satisfied: pandas<2.2.0,>=1.1 in /home/galilei/miniconda3/lib/python3.11/site-packages (from sktime) (2.1.1)\n",
      "Requirement already satisfied: scikit-base<0.7.0 in /home/galilei/miniconda3/lib/python3.11/site-packages (from sktime) (0.6.1)\n",
      "Requirement already satisfied: scikit-learn<1.4.0,>=0.24 in /home/galilei/miniconda3/lib/python3.11/site-packages (from sktime) (1.3.2)\n",
      "Requirement already satisfied: scipy<2.0.0,>=1.2 in /home/galilei/miniconda3/lib/python3.11/site-packages (from sktime) (1.11.3)\n",
      "Requirement already satisfied: python-dateutil>=2.8.2 in /home/galilei/miniconda3/lib/python3.11/site-packages (from pandas<2.2.0,>=1.1->sktime) (2.8.2)\n",
      "Requirement already satisfied: pytz>=2020.1 in /home/galilei/miniconda3/lib/python3.11/site-packages (from pandas<2.2.0,>=1.1->sktime) (2023.3.post1)\n",
      "Requirement already satisfied: tzdata>=2022.1 in /home/galilei/miniconda3/lib/python3.11/site-packages (from pandas<2.2.0,>=1.1->sktime) (2023.3)\n",
      "Requirement already satisfied: joblib>=1.1.1 in /home/galilei/miniconda3/lib/python3.11/site-packages (from scikit-learn<1.4.0,>=0.24->sktime) (1.3.2)\n",
      "Requirement already satisfied: threadpoolctl>=2.0.0 in /home/galilei/miniconda3/lib/python3.11/site-packages (from scikit-learn<1.4.0,>=0.24->sktime) (3.2.0)\n",
      "Requirement already satisfied: six>=1.5 in /home/galilei/miniconda3/lib/python3.11/site-packages (from python-dateutil>=2.8.2->pandas<2.2.0,>=1.1->sktime) (1.16.0)\n"
     ]
    }
   ],
   "source": [
    "!pip install sktime"
   ]
  },
  {
   "cell_type": "code",
   "execution_count": 1,
   "id": "fa84d6f4-2579-46a0-bc66-f49e3ec2cc9d",
   "metadata": {},
   "outputs": [
    {
     "name": "stderr",
     "output_type": "stream",
     "text": [
      "2023-11-16 01:07:08.562341: I tensorflow/core/util/port.cc:111] oneDNN custom operations are on. You may see slightly different numerical results due to floating-point round-off errors from different computation orders. To turn them off, set the environment variable `TF_ENABLE_ONEDNN_OPTS=0`.\n",
      "2023-11-16 01:07:08.563554: I tensorflow/tsl/cuda/cudart_stub.cc:28] Could not find cuda drivers on your machine, GPU will not be used.\n",
      "2023-11-16 01:07:08.581618: E tensorflow/compiler/xla/stream_executor/cuda/cuda_dnn.cc:9342] Unable to register cuDNN factory: Attempting to register factory for plugin cuDNN when one has already been registered\n",
      "2023-11-16 01:07:08.581638: E tensorflow/compiler/xla/stream_executor/cuda/cuda_fft.cc:609] Unable to register cuFFT factory: Attempting to register factory for plugin cuFFT when one has already been registered\n",
      "2023-11-16 01:07:08.581650: E tensorflow/compiler/xla/stream_executor/cuda/cuda_blas.cc:1518] Unable to register cuBLAS factory: Attempting to register factory for plugin cuBLAS when one has already been registered\n",
      "2023-11-16 01:07:08.585148: I tensorflow/tsl/cuda/cudart_stub.cc:28] Could not find cuda drivers on your machine, GPU will not be used.\n",
      "2023-11-16 01:07:08.585506: I tensorflow/core/platform/cpu_feature_guard.cc:182] This TensorFlow binary is optimized to use available CPU instructions in performance-critical operations.\n",
      "To enable the following instructions: AVX2 AVX_VNNI FMA, in other operations, rebuild TensorFlow with the appropriate compiler flags.\n",
      "2023-11-16 01:07:09.002876: W tensorflow/compiler/tf2tensorrt/utils/py_utils.cc:38] TF-TRT Warning: Could not find TensorRT\n"
     ]
    }
   ],
   "source": [
    "from lasts.blackboxes.loader import cached_blackbox_loader\n",
    "from lasts.datasets.datasets import build_cbf\n",
    "from lasts.autoencoders.variational_autoencoder import load_model\n",
    "from lasts.utils import get_project_root, choose_z\n",
    "from lasts.surrogates.shapelet_tree import ShapeletTree\n",
    "from lasts.neighgen.counter_generator import CounterGenerator\n",
    "from lasts.wrappers import DecoderWrapper\n",
    "from lasts.surrogates.utils import generate_n_shapelets_per_size\n",
    "from lasts.explainers.lasts import Lasts\n",
    "import numpy as np"
   ]
  },
  {
   "cell_type": "code",
   "execution_count": 2,
   "id": "98b3c551-8937-42e0-b1c3-bfff871f9fcb",
   "metadata": {},
   "outputs": [
    {
     "name": "stdout",
     "output_type": "stream",
     "text": [
      "DATASET INFO:\n",
      "X SHAPE:  (600, 128, 1)\n",
      "y SHAPE:  (600,)\n",
      "\n",
      "CLASSES BALANCE\n",
      "0 :  0.33\n",
      "1 :  0.33\n",
      "2 :  0.33\n",
      "\n",
      "SHAPES:\n",
      "BLACKBOX TRAINING SET:  (268, 128, 1)\n",
      "BLACKBOX VALIDATION SET:  (68, 128, 1)\n",
      "BLACKBOX TEST SET:  (84, 128, 1)\n",
      "EXPLANATION TRAINING SET:  (115, 128, 1)\n",
      "EXPLANATION VALIDATION SET:  (29, 128, 1)\n",
      "EXPLANATION TEST SET:  (36, 128, 1)\n"
     ]
    }
   ],
   "source": [
    "random_state = 0\n",
    "np.random.seed(random_state)\n",
    "dataset_name = \"cbf\"\n",
    "\n",
    "_, _, _, _, _, _, X_exp_train, y_exp_train, X_exp_val, y_exp_val, X_exp_test, y_exp_test = build_cbf(n_samples=600, random_state=random_state)"
   ]
  },
  {
   "cell_type": "code",
   "execution_count": 9,
   "id": "1ea0e4a3-785c-46f2-88bf-f79bff355323",
   "metadata": {},
   "outputs": [
    {
     "data": {
      "text/plain": [
       "'/mnt/d/research/craven/baselines/explanationTesting'"
      ]
     },
     "execution_count": 9,
     "metadata": {},
     "output_type": "execute_result"
    }
   ],
   "source": [
    "import os\n",
    "os.getcwd()"
   ]
  },
  {
   "cell_type": "code",
   "execution_count": 10,
   "id": "a68682e7-5070-4454-bb61-cfe3754664fb",
   "metadata": {},
   "outputs": [
    {
     "ename": "FileNotFoundError",
     "evalue": "[Errno 2] No such file or directory: '/home/galilei/miniconda3/lib/python3.11/site-packages/lasts/blackboxes/cached/cbf_knn.joblib'",
     "output_type": "error",
     "traceback": [
      "\u001b[0;31m---------------------------------------------------------------------------\u001b[0m",
      "\u001b[0;31mFileNotFoundError\u001b[0m                         Traceback (most recent call last)",
      "Cell \u001b[0;32mIn[10], line 1\u001b[0m\n\u001b[0;32m----> 1\u001b[0m blackbox \u001b[38;5;241m=\u001b[39m \u001b[43mcached_blackbox_loader\u001b[49m\u001b[43m(\u001b[49m\u001b[38;5;124;43m\"\u001b[39;49m\u001b[38;5;124;43mcbf_knn.joblib\u001b[39;49m\u001b[38;5;124;43m\"\u001b[39;49m\u001b[43m)\u001b[49m\n\u001b[1;32m      2\u001b[0m encoder, decoder, autoencoder \u001b[38;5;241m=\u001b[39m load_model(\u001b[38;5;124m\"\u001b[39m\u001b[38;5;124m/mnt/d/research/craven/baselines/explanationTesting/lasts/autoencoders/cached/vae/cbf/cbf_vae\u001b[39m\u001b[38;5;124m\"\u001b[39m)\n",
      "File \u001b[0;32m~/miniconda3/lib/python3.11/site-packages/lasts/blackboxes/loader.py:22\u001b[0m, in \u001b[0;36mcached_blackbox_loader\u001b[0;34m(file_name, wrap)\u001b[0m\n\u001b[1;32m     20\u001b[0m \u001b[38;5;28;01mif\u001b[39;00m path\u001b[38;5;241m.\u001b[39msuffix \u001b[38;5;241m==\u001b[39m \u001b[38;5;124m\"\u001b[39m\u001b[38;5;124m.joblib\u001b[39m\u001b[38;5;124m\"\u001b[39m:\n\u001b[1;32m     21\u001b[0m     \u001b[38;5;28;01mif\u001b[39;00m wrap:\n\u001b[0;32m---> 22\u001b[0m         blackbox \u001b[38;5;241m=\u001b[39m \u001b[43mload\u001b[49m\u001b[43m(\u001b[49m\u001b[43mpath\u001b[49m\u001b[43m)\u001b[49m\n\u001b[1;32m     23\u001b[0m         \u001b[38;5;28;01mif\u001b[39;00m \u001b[38;5;28misinstance\u001b[39m(blackbox, RocketWrapper):\n\u001b[1;32m     24\u001b[0m             \u001b[38;5;28;01mpass\u001b[39;00m  \u001b[38;5;66;03m# no need to wrap it\u001b[39;00m\n",
      "File \u001b[0;32m~/miniconda3/lib/python3.11/site-packages/joblib/numpy_pickle.py:650\u001b[0m, in \u001b[0;36mload\u001b[0;34m(filename, mmap_mode)\u001b[0m\n\u001b[1;32m    648\u001b[0m         obj \u001b[38;5;241m=\u001b[39m _unpickle(fobj)\n\u001b[1;32m    649\u001b[0m \u001b[38;5;28;01melse\u001b[39;00m:\n\u001b[0;32m--> 650\u001b[0m     \u001b[38;5;28;01mwith\u001b[39;00m \u001b[38;5;28;43mopen\u001b[39;49m\u001b[43m(\u001b[49m\u001b[43mfilename\u001b[49m\u001b[43m,\u001b[49m\u001b[43m \u001b[49m\u001b[38;5;124;43m'\u001b[39;49m\u001b[38;5;124;43mrb\u001b[39;49m\u001b[38;5;124;43m'\u001b[39;49m\u001b[43m)\u001b[49m \u001b[38;5;28;01mas\u001b[39;00m f:\n\u001b[1;32m    651\u001b[0m         \u001b[38;5;28;01mwith\u001b[39;00m _read_fileobject(f, filename, mmap_mode) \u001b[38;5;28;01mas\u001b[39;00m fobj:\n\u001b[1;32m    652\u001b[0m             \u001b[38;5;28;01mif\u001b[39;00m \u001b[38;5;28misinstance\u001b[39m(fobj, \u001b[38;5;28mstr\u001b[39m):\n\u001b[1;32m    653\u001b[0m                 \u001b[38;5;66;03m# if the returned file object is a string, this means we\u001b[39;00m\n\u001b[1;32m    654\u001b[0m                 \u001b[38;5;66;03m# try to load a pickle file generated with an version of\u001b[39;00m\n\u001b[1;32m    655\u001b[0m                 \u001b[38;5;66;03m# Joblib so we load it with joblib compatibility function.\u001b[39;00m\n",
      "\u001b[0;31mFileNotFoundError\u001b[0m: [Errno 2] No such file or directory: '/home/galilei/miniconda3/lib/python3.11/site-packages/lasts/blackboxes/cached/cbf_knn.joblib'"
     ]
    }
   ],
   "source": [
    "blackbox = cached_blackbox_loader(\"cbf_knn.joblib\")\n",
    "encoder, decoder, autoencoder = load_model(\"/mnt/d/research/craven/baselines/explanationTesting/lasts/autoencoders/cached/vae/cbf/cbf_vae\")"
   ]
  },
  {
   "cell_type": "code",
   "execution_count": null,
   "id": "25d9b2a4-9d48-4d84-9927-4e7f44feca99",
   "metadata": {},
   "outputs": [],
   "source": [
    "i = 0\n",
    "x = X_exp_test[i].ravel().reshape(1, -1, 1)\n",
    "z_fixed = choose_z(x, encoder, decoder, n=1000, x_label=blackbox.predict(x)[0], blackbox=blackbox, check_label=True, mse=False)\n",
    "\n",
    "neighgen = CounterGenerator(blackbox, DecoderWrapper(decoder), n_search=10000, ...)\n",
    "\n",
    "n_shapelets_per_size = generate_n_shapelets_per_size(X_exp_train.shape[1])\n",
    "surrogate = ShapeletTree(random_state=random_state, shapelet_model_kwargs={...})"
   ]
  },
  {
   "cell_type": "code",
   "execution_count": null,
   "id": "d11acbab-7615-4378-9a3f-7c82466c68d0",
   "metadata": {},
   "outputs": [],
   "source": [
    "lasts_ = Lasts(blackbox, encoder, DecoderWrapper(decoder), neighgen, surrogate, verbose=True, binarize_surrogate_labels=True, labels=[\"cylinder\", \"bell\", \"funnel\"])\n",
    "\n",
    "lasts_.fit(x, z_fixed)"
   ]
  },
  {
   "cell_type": "code",
   "execution_count": null,
   "id": "1888013c-9928-409c-a678-08dd97916c5d",
   "metadata": {},
   "outputs": [],
   "source": [
    "exp = lasts_.explain()\n",
    "\n",
    "lasts_.plot(\"latent_space\")\n",
    "lasts_.plot(\"morphing_matrix\")\n",
    "lasts_.plot(\"counterexemplar_interpolation\")\n",
    "lasts_.plot(\"manifest_space\")\n",
    "lasts_.plot(\"saliency_map\")\n",
    "lasts_.plot(\"subsequences_heatmap\")\n",
    "lasts_.plot(\"rules\")\n",
    "lasts_.neighgen.plotter.plot_counterexemplar_shape_change()"
   ]
  }
 ],
 "metadata": {
  "kernelspec": {
   "display_name": "Python 3 (ipykernel)",
   "language": "python",
   "name": "python3"
  },
  "language_info": {
   "codemirror_mode": {
    "name": "ipython",
    "version": 3
   },
   "file_extension": ".py",
   "mimetype": "text/x-python",
   "name": "python",
   "nbconvert_exporter": "python",
   "pygments_lexer": "ipython3",
   "version": "3.11.4"
  }
 },
 "nbformat": 4,
 "nbformat_minor": 5
}
